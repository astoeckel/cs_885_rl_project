{
 "cells": [
  {
   "cell_type": "code",
   "execution_count": null,
   "metadata": {},
   "outputs": [],
   "source": [
    "%load_ext autoreload\n",
    "%autoreload 2\n",
    "%matplotlib inline"
   ]
  },
  {
   "cell_type": "code",
   "execution_count": null,
   "metadata": {},
   "outputs": [],
   "source": [
    "import numpy as np\n",
    "import matplotlib\n",
    "import matplotlib.pyplot as plt\n",
    "import scipy.fftpack"
   ]
  },
  {
   "cell_type": "code",
   "execution_count": null,
   "metadata": {},
   "outputs": [],
   "source": [
    "n_dims = list(range(1, 17))\n",
    "files = [\"./data/control_net/control_seq_n_dim_{}_trace.npy\".format(i) for i in n_dims]\n",
    "traces = []\n",
    "for i, file in enumerate(files):\n",
    "    traces.append(np.load(file))"
   ]
  },
  {
   "cell_type": "code",
   "execution_count": null,
   "metadata": {},
   "outputs": [],
   "source": [
    "cmap = matplotlib.cm.get_cmap('viridis')\n",
    "colours = cmap(np.linspace(0, 1, len(n_dims)))\n",
    "fig, ax = plt.subplots(figsize=(4.3, 3.25))\n",
    "RMS = 0.64\n",
    "for i in range(16):\n",
    "    trace = traces[i]\n",
    "    ax.semilogy(trace[0] * 1e-3, np.sqrt(np.mean(trace[1:], axis=0)) / RMS, color=colours[i], label=\"$n = {}$\".format(n_dims[i]))\n",
    "ax.set_xlabel(\"Number of batches ($\\\\times 10^3$)\")\n",
    "ax.set_ylabel(\"Mean training error (Relative RMSE)\")\n",
    "ax.set_ylim(2.5e-2, 2)\n",
    "ax.legend(loc='best', ncol=4, columnspacing=0.75, labelspacing=0.1)\n",
    "\n",
    "#fig.savefig('../doc/media/control_network_training.pdf', bbox_inches='tight')"
   ]
  },
  {
   "cell_type": "code",
   "execution_count": null,
   "metadata": {},
   "outputs": [],
   "source": [
    "import gym_speech_resynthesis.envs.control_network as control_network\n",
    "import gym_speech_resynthesis.envs.audio as audio\n",
    "import gym_speech_resynthesis.envs.mfcc as mfcc\n",
    "import gnuspeech_trm"
   ]
  },
  {
   "cell_type": "code",
   "execution_count": null,
   "metadata": {},
   "outputs": [],
   "source": [
    "X = control_network.read_control_sequence('data/control_sequences/000/0049_776f3a41.prm.gz')\n",
    "X2 = control_network.read_control_sequence('data/control_sequences/000/0002_07a1b183.prm.gz')\n",
    "\n",
    "Xmin, Xmax = np.min(X, axis=0), np.max(X, axis=0)\n",
    "Xoffs = -0.5 * (Xmin + Xmax)\n",
    "Xscale = 2.0 / np.maximum(.1, (Xmax - Xmin))"
   ]
  },
  {
   "cell_type": "code",
   "execution_count": null,
   "metadata": {},
   "outputs": [],
   "source": [
    "%%script false\n",
    "fig, ax = plt.subplots(figsize=(10, 2))\n",
    "plt.plot(CE_sweep);"
   ]
  },
  {
   "cell_type": "code",
   "execution_count": null,
   "metadata": {},
   "outputs": [],
   "source": [
    "%%script false\n",
    "\n",
    "def measure_trm_latency(fs=16000):\n",
    "    trm = gnuspeech_trm.TRM()\n",
    "    trm.output_rate = fs\n",
    "    trm.filter_period = 20e-3\n",
    "    trm.glot_vol = 0.0\n",
    "    smpls1 = trm.synthesize(1024)\n",
    "    trm.glot_vol = 60.0\n",
    "    smpls2 = trm.synthesize(1024)\n",
    "    trm.glot_vol = 0.0\n",
    "    smpls3 = trm.synthesize(1024)\n",
    "\n",
    "    smpls = np.concatenate((smpls1, smpls2, smpls3))\n",
    "\n",
    "    mfcc_analysis = mfcc.MFCCFeatureAnalysis(sample_rate=fs, sample_rate_in=fs)\n",
    "    mfccs, spectrum, ts = mfcc_analysis(smpls)\n",
    "\n",
    "    fig, ax = plt.subplots()\n",
    "    ax.plot(np.linspace(0, len(smpls) / fs, len(smpls)), smpls)\n",
    "    for i, t in enumerate(ts):\n",
    "        ax.plot([t - mfcc_analysis.fft_size * 0.5 / fs,\n",
    "                 t - mfcc_analysis.fft_size * 0.5 / fs,\n",
    "                 t + mfcc_analysis.fft_size * 0.5 / fs,\n",
    "                 t + mfcc_analysis.fft_size * 0.5 / fs],\n",
    "                [0,\n",
    "                 np.sum(spectrum[i] + 1) * 0.1,\n",
    "                 np.sum(spectrum[i] + 1) * 0.1,\n",
    "                 0], 'k-')\n",
    "    ax.plot(np.array([0, 1023, 1024, 2048, 2049, 3096]) / fs, [0, 0, 1, 1, 0, 0])\n",
    "    \n",
    "measure_trm_latency()"
   ]
  },
  {
   "cell_type": "code",
   "execution_count": null,
   "metadata": {},
   "outputs": [],
   "source": [
    "def synthesise_trajectory(X, render=False, twnd=3.75e-3, fs=16000, config_dict=gnuspeech_trm.TRM.voice_male):\n",
    "    class Dummy:\n",
    "        def __enter__(self): return self\n",
    "        def __exit__(self, *_): return self\n",
    "    \n",
    "    mfcc_analysis = mfcc.MFCCFeatureAnalysis(sample_rate_in=fs, sample_rate=fs)\n",
    "\n",
    "    trm = gnuspeech_trm.TRM(config_dict=config_dict)\n",
    "    trm.volume = 60.0\n",
    "    trm.output_rate = fs\n",
    "    trm.filter_period = 20e-3\n",
    "\n",
    "    n_samples = int(twnd * fs)\n",
    "\n",
    "    spectrum = []\n",
    "    mfccs = []\n",
    "    ts = []\n",
    "    l = 0\n",
    "    with (audio.Player(channels=1, sample_rate=fs) if render else Dummy()) as player:\n",
    "        for x in X:\n",
    "            # Synthesise\n",
    "            trm.set_parameters(x)\n",
    "            samples = trm.synthesize(n_samples_max=n_samples)\n",
    "            l += len(samples)\n",
    "\n",
    "            # Record spectrum and MFCCs\n",
    "            ms, ss, t = mfcc_analysis(samples)\n",
    "            mfccs += ms.tolist()\n",
    "            spectrum += ss.tolist()      \n",
    "            ts += t.tolist()\n",
    "\n",
    "            # Render if requested\n",
    "            if render:\n",
    "                player.write(samples.reshape(-1, 1))             \n",
    "\n",
    "    return mfccs, spectrum, ts"
   ]
  },
  {
   "cell_type": "code",
   "execution_count": null,
   "metadata": {},
   "outputs": [],
   "source": [
    "cnet = control_network.ControlNetwork(\n",
    "    weight_file='data/control_net/control_seq_n_dim_1_weights_014.h5',\n",
    "    autoencoder=True)\n",
    "\n",
    "cnet_forward = control_network.ControlNetwork(\n",
    "    weight_file='data/control_net/control_seq_n_dim_1_weights_014.h5',\n",
    "    autoencoder=False)\n",
    "\n",
    "def apply_cnet(X, cnet):\n",
    "    encoded = list(map(cnet.eval, X))\n",
    "    XE = np.array(list(map(lambda x: x[0], encoded)))\n",
    "    CE = np.array(list(map(lambda x: x[1], encoded)))\n",
    "    return XE,CE\n",
    "\n",
    "XE, CE = apply_cnet(X, cnet)\n",
    "\n",
    "CE2 = np.random.uniform(-1, 1, (CE.shape[0], 2))\n",
    "XE2, CE2 = apply_cnet(CE2, cnet_forward)\n",
    "\n",
    "ts = np.linspace(0, (X.shape[0] - 1) * 3.75e-3, X.shape[0])"
   ]
  },
  {
   "cell_type": "code",
   "execution_count": null,
   "metadata": {},
   "outputs": [],
   "source": [
    "%%script false\n",
    "fig, axs = plt.subplots(8, 2, figsize=(8.6, 3.5), sharex=True)\n",
    "for i in range(16):\n",
    "    ax = axs[i % 8, i // 8]\n",
    "    ax.plot(ts, X[:, i], 'k', linewidth=1);\n",
    "    ax.plot(ts, XE[:, i], linestyle=(0, (2, 1)), linewidth=0.75);\n",
    "    ax.plot(ts, XE[:, i], color='white', linestyle=(1, (1, 2)), linewidth=0.75);\n",
    "    ax.set_xlim(np.min(ts), np.max(ts))\n",
    "\n",
    "#fig.savefig('../doc/media/trm_params_.pdf', bbox_inches='tight')\n",
    "\n",
    "fig, ax = plt.subplots(figsize=(8.6, 0.3))\n",
    "ax.plot(ts, CE)\n",
    "ax.set_xlim(np.min(ts), np.max(ts))\n",
    "#fig.savefig('../doc/media/control_net_traj_.pdf', bbox_inches='tight')"
   ]
  },
  {
   "cell_type": "code",
   "execution_count": null,
   "metadata": {},
   "outputs": [],
   "source": [
    "mfccs_x, spectrum_x, ts_x = synthesise_trajectory(X, render=False, config_dict=gnuspeech_trm.TRM.voice_female)\n",
    "mfccs_xe, spectrum_xe, ts_xe = synthesise_trajectory(XE, render=False, config_dict=gnuspeech_trm.TRM.voice_female)\n",
    "\n",
    "#mfccs_x = mfccs_x[:10]\n",
    "\n",
    "mfccs_x = mfccs_x[:min(len(mfccs_x), len(mfccs_xe))]\n",
    "mfccs_xe = mfccs_xe[:min(len(mfccs_x), len(mfccs_xe))]\n",
    "spectrum_x = spectrum_x[:min(len(mfccs_x), len(mfccs_xe))]\n",
    "spectrum_xe = spectrum_xe[:min(len(mfccs_x), len(mfccs_xe))]\n",
    "ts_x = ts_x[:min(len(mfccs_x), len(mfccs_xe))]\n",
    "ts_xe = ts_xe[:min(len(mfccs_x), len(mfccs_xe))]\n",
    "mfccs_x, spectrum_x = np.array(mfccs_x), np.array(spectrum_x)\n",
    "mfccs_xe, spectrum_xe = np.array(mfccs_xe), np.array(spectrum_xe)"
   ]
  },
  {
   "cell_type": "code",
   "execution_count": null,
   "metadata": {},
   "outputs": [],
   "source": [
    "fig, axs = plt.subplots(3, 2, figsize=(8.6, 1.5), sharex=True, gridspec_kw = {'height_ratios':[3, 3, 2]})\n",
    "\n",
    "def norm_img(x):\n",
    "    return x / np.maximum(1e-2, np.max(np.abs(x), axis=0))\n",
    "\n",
    "extent_mfcc = (min(ts_x), max(ts_x), 0, 12)\n",
    "extent_spectrum = (min(ts_x), max(ts_x), 0, 40)\n",
    "\n",
    "axs[0, 0].imshow(norm_img(spectrum_x.T), origin='lower', vmin=-1, vmax=1, extent=extent_spectrum)\n",
    "axs[0, 0].set_aspect('auto')\n",
    "axs[1, 0].imshow(norm_img(spectrum_xe.T), origin='lower', vmin=-1, vmax=1, extent=extent_spectrum)\n",
    "axs[1, 0].set_aspect('auto')\n",
    "err = -np.sqrt(np.mean((spectrum_x.T - spectrum_xe.T)**2, axis=0))\n",
    "axs[2, 0].plot(ts_x, err)\n",
    "axs[2, 0].plot([min(ts_x), max(ts_x)], [np.mean(err), np.mean(err)], 'k--')\n",
    "axs[2, 0].set_xlim(min(ts_x), max(ts_x))\n",
    "axs[2, 0].set_ylim(-2, 0.2)\n",
    "axs[2, 0].set_xlabel('Time (s)')\n",
    "axs[2, 0].grid()\n",
    "\n",
    "axs[0, 1].imshow(norm_img(mfccs_x.T), origin='lower', vmin=-1, vmax=1, extent=extent_mfcc)\n",
    "axs[0, 1].set_aspect('auto')\n",
    "axs[1, 1].imshow(norm_img(mfccs_xe.T), origin='lower', vmin=-1, vmax=1, extent=extent_mfcc)\n",
    "axs[1, 1].set_aspect('auto')\n",
    "err = -np.sqrt(np.mean((mfccs_x.T - mfccs_xe.T)**2, axis=0))\n",
    "print(np.mean(err))\n",
    "axs[2, 1].plot(ts_x, err)\n",
    "axs[2, 1].plot([min(ts_x), max(ts_x)], [np.mean(err), np.mean(err)], 'k--')\n",
    "axs[2, 1].set_xlim(min(ts_x), max(ts_x))\n",
    "axs[2, 1].set_ylim(-5, 0.2)\n",
    "axs[2, 1].set_xlabel('Time (s)')\n",
    "axs[2, 1].grid()\n",
    "\n",
    "fig.savefig('../doc/media/control_network_spectrogram_.pdf', bbox_inches='tight')\n"
   ]
  },
  {
   "cell_type": "markdown",
   "metadata": {},
   "source": [
    "0 --> -0.9765524809873503\n",
    "1 --> -1.1808174964200375\n",
    "2 --> -1.1965627846355837\n",
    "3 --> -1.0581228203476254\n",
    "4 --> -0.9999949165223575\n",
    "5 --> -1.0286517547132525\n",
    "6 --> -1.001001173461883\n",
    "7 --> -1.1711381796270222\n",
    "8 --> -0.9853842660259826\n",
    "9 --> -1.160913628648073\n",
    "10 --> -1.01060159941192\n",
    "11 --> -1.0404142789618576\n",
    "12 --> -0.9536047139706527\n",
    "13 --> -1.0543453249269936\n",
    "14 --> -0.9034262340837026\n",
    "15 --> -0.9956026783130717"
   ]
  },
  {
   "cell_type": "code",
   "execution_count": null,
   "metadata": {},
   "outputs": [],
   "source": [
    "## PCA"
   ]
  },
  {
   "cell_type": "code",
   "execution_count": null,
   "metadata": {},
   "outputs": [],
   "source": [
    "Xs = control_network.read_control_sequences('data/control_sequences/000')"
   ]
  },
  {
   "cell_type": "code",
   "execution_count": null,
   "metadata": {},
   "outputs": [],
   "source": [
    "X = np.concatenate(Xs)\n",
    "Xmin, Xmax = np.min(X, axis=0), np.max(X, axis=0)\n",
    "Xoffs = -0.5 * (Xmin + Xmax)\n",
    "Xscale = 2.0 / np.maximum(.1, (Xmax - Xmin))\n",
    "X = (X + Xoffs) * Xscale"
   ]
  },
  {
   "cell_type": "code",
   "execution_count": null,
   "metadata": {},
   "outputs": [],
   "source": [
    "X = np.concatenate(Xs)[:, 1:]\n",
    "\n",
    "Xmin, Xmax = np.min(X, axis=0), np.max(X, axis=0)\n",
    "Xoffs = -0.5 * (Xmin + Xmax)\n",
    "Xscale = 2.0 / np.maximum(.1, (Xmax - Xmin))\n",
    "\n",
    "X = (X + Xoffs) * Xscale\n",
    "\n",
    "# Compute the PCA\n",
    "X = X - np.mean(X, axis=0)\n",
    "E, V = np.linalg.eigh(X.T @ X)\n",
    "print(E.shape, V.shape)"
   ]
  },
  {
   "cell_type": "code",
   "execution_count": null,
   "metadata": {},
   "outputs": [],
   "source": [
    "fig, ax = plt.subplots()\n",
    "ax.plot(E / np.max(E))"
   ]
  },
  {
   "cell_type": "code",
   "execution_count": null,
   "metadata": {},
   "outputs": [],
   "source": [
    "rmses = np.zeros(15)\n",
    "for n_dims in range(1, 16):\n",
    "    XP = V.T[-n_dims:] @ X.T\n",
    "    XE = XP.T @ V.T[-n_dims:]\n",
    "    rmses[n_dims - 1] = np.sqrt(np.mean((X - XE)**2))"
   ]
  },
  {
   "cell_type": "code",
   "execution_count": null,
   "metadata": {},
   "outputs": [],
   "source": [
    "fig, ax = plt.subplots(figsize=(4.3, 3.25))\n",
    "ax.semilogy(list(range(1, 14)), rmses[:13] / 0.64, '--+', color='k')\n",
    "ax.set_ylim(2.5e-2, 2)\n",
    "ax.set_ylabel('Relative RMSE')\n",
    "ax.set_xlabel('Number of principal components')\n",
    "\n",
    "fig.savefig('../doc/media/control_network_pca.pdf', bbox_inches='tight')"
   ]
  },
  {
   "cell_type": "code",
   "execution_count": null,
   "metadata": {},
   "outputs": [],
   "source": [
    "# Load some sequence and project it onto the first two principal components\n",
    "X = control_network.read_control_sequence('data/control_sequences/000/0049_776f3a41.prm.gz')\n",
    "X = X[:, 1:]\n",
    "n_dims = 8\n",
    "X = (X + Xoffs) * Xscale\n",
    "X = X - np.mean(X, axis=0)\n",
    "XP = V.T[-n_dims:] @ X.T\n",
    "\n",
    "# Project back and plot\n",
    "XE = XP.T @ V.T[-n_dims:]"
   ]
  },
  {
   "cell_type": "code",
   "execution_count": null,
   "metadata": {},
   "outputs": [],
   "source": [
    "fig, axs = plt.subplots(15, 1, figsize=(10, 16))\n",
    "for i in range(15):\n",
    "    axs[i].plot(X[:, i] / Xscale[i] - Xoffs[i]);\n",
    "    axs[i].plot(XE[:, i] / Xscale[i] - Xoffs[i]);"
   ]
  },
  {
   "cell_type": "markdown",
   "metadata": {},
   "source": [
    "# Hilbert-Curve based sampling"
   ]
  },
  {
   "cell_type": "code",
   "execution_count": null,
   "metadata": {},
   "outputs": [],
   "source": [
    "class HilbertCurve(object):\n",
    "    \"\"\"Hilbert curve function.\n",
    "    Pre-calculates the Hilbert space filling curve with a given number\n",
    "    of iterations. The curve will lie in the square delimited by the\n",
    "    points (0, 0) and (1, 1).\n",
    "    Arguments\n",
    "    ---------\n",
    "    n : int\n",
    "        Iterations.\n",
    "    \"\"\"\n",
    "    # Implementation based on\n",
    "    # https://en.wikipedia.org/w/index.php?title=Hilbert_curve&oldid=633637210\n",
    "\n",
    "    def __init__(self, n):\n",
    "        self.n = n\n",
    "        self.n_corners = (2 ** n) ** 2\n",
    "        self.corners = np.zeros((self.n_corners, 2))\n",
    "        self.steps = np.arange(self.n_corners)\n",
    "\n",
    "        steps = np.arange(self.n_corners)\n",
    "        for s in 2 ** np.arange(n):\n",
    "            r = np.empty_like(self.corners, dtype='int')\n",
    "            r[:, 0] = 1 & (steps // 2)\n",
    "            r[:, 1] = 1 & (steps ^ r[:, 0])\n",
    "            self._rot(s, r)\n",
    "            self.corners += s * r\n",
    "            steps //= 4\n",
    "\n",
    "        self.corners /= (2 ** n) - 1\n",
    "\n",
    "    def _rot(self, s, r):\n",
    "        swap = r[:, 1] == 0\n",
    "        flip = np.all(r == np.array([1, 0]), axis=1)\n",
    "\n",
    "        self.corners[flip] = (s - 1 - self.corners[flip])\n",
    "        self.corners[swap] = self.corners[swap, ::-1]\n",
    "\n",
    "    def __call__(self, u):\n",
    "        \"\"\"Evaluate pre-calculated Hilbert curve.\n",
    "        Arguments\n",
    "        ---------\n",
    "        u : ndarray (M,)\n",
    "            Positions to evaluate on the curve in the range [0, 1].\n",
    "        Returns\n",
    "        -------\n",
    "        ndarray (M, 2)\n",
    "            Two-dimensional curve coordinates.\n",
    "        \"\"\"\n",
    "        step = np.asarray(u * len(self.steps))\n",
    "        return np.vstack((\n",
    "            np.interp(step, self.steps, self.corners[:, 0]),\n",
    "            np.interp(step, self.steps, self.corners[:, 1]))).T"
   ]
  },
  {
   "cell_type": "code",
   "execution_count": null,
   "metadata": {},
   "outputs": [],
   "source": [
    "seqs = control_network.read_control_sequences('data/control_sequences/000')"
   ]
  },
  {
   "cell_type": "code",
   "execution_count": null,
   "metadata": {},
   "outputs": [],
   "source": [
    "curve = HilbertCurve(4)\n",
    "C_sweep = (2 * curve(np.linspace(0, 1, (1 << 10) - 1))) - 1\n",
    "X_sweep, _ = apply_cnet(C_sweep, cnet_forward)"
   ]
  },
  {
   "cell_type": "code",
   "execution_count": null,
   "metadata": {},
   "outputs": [],
   "source": [
    "fig, ax = plt.subplots(figsize=(2.5, 2.5))\n",
    "ax.plot(C_sweep[:, 0], C_sweep[:, 1])\n",
    "ax.set_xlabel('Pitch')\n",
    "ax.set_ylabel('Phoneme')\n",
    "\n",
    "fig.savefig('../doc/media/hilbert_.pdf', bbox_inches='tight')"
   ]
  },
  {
   "cell_type": "code",
   "execution_count": null,
   "metadata": {},
   "outputs": [],
   "source": [
    "mfccs_ref, _, _ = synthesise_trajectory(X_sweep, render=False, config_dict=gnuspeech_trm.TRM.voice_female)"
   ]
  },
  {
   "cell_type": "code",
   "execution_count": null,
   "metadata": {},
   "outputs": [],
   "source": [
    "mfccs_ref = np.array(mfccs_ref)\n",
    "fig, ax = plt.subplots(figsize=(6.25, 0.5))\n",
    "ax.imshow(norm_img(mfccs_ref.T), origin='lower', extent=(0, 256, 0, 12))\n",
    "ax.set_aspect('auto')\n",
    "ax.set_xlabel('Hilbert curve point')\n",
    "ax.set_ylabel('MFCC coeff.')\n",
    "\n",
    "fig.savefig('../doc/media/hilbert_mfcc_.pdf', bbox_inches='tight')"
   ]
  },
  {
   "cell_type": "code",
   "execution_count": null,
   "metadata": {},
   "outputs": [],
   "source": [
    "def reconstruct_control_seq(mfccs_x, mfccs_ref, cs_ref):\n",
    "    n, m = mfccs_ref.shape[0], cs_ref.shape[0]\n",
    "    i = n // 2\n",
    "    C_reconstructed = []\n",
    "    for mfcc_x in mfccs_x:\n",
    "        dist = np.sum((mfccs_ref - mfcc_x[None, :])**2, axis=1)\n",
    "        reg = np.abs(0.0 * (np.arange(n) - i))\n",
    "        i = np.argmin(dist + reg)\n",
    "        t = int((i / n) * m)\n",
    "        C_reconstructed.append(cs_ref[t])\n",
    "    return np.array(C_reconstructed)"
   ]
  },
  {
   "cell_type": "code",
   "execution_count": null,
   "metadata": {},
   "outputs": [],
   "source": [
    "import sys\n",
    "N = 0\n",
    "err = 0\n",
    "for i, seq in enumerate(seqs[0:1]):\n",
    "    mfccs_x, _, _ = synthesise_trajectory(seq, render=False, config_dict=gnuspeech_trm.TRM.voice_female)\n",
    "    mfccs_x = np.array(mfccs_x)\n",
    "    C_reconstructed = reconstruct_control_seq(mfccs_x, mfccs_ref, C_sweep)\n",
    "    X_reconstructed, _ = apply_cnet(C_reconstructed, cnet_forward)\n",
    "    \n",
    "    twnd_reconstructed = 8.1875e-3\n",
    "    mfccs_r, spectrum_r, ts_r = synthesise_trajectory(X_reconstructed, render=True, twnd=twnd_reconstructed, config_dict=gnuspeech_trm.TRM.voice_female)\n",
    "    mfccs_r = np.array(mfccs_r)\n",
    "\n",
    "    mfccs_x = mfccs_x[:min(mfccs_x.shape[0], mfccs_r.shape[0])]\n",
    "    mfccs_r = mfccs_r[:min(mfccs_x.shape[0], mfccs_r.shape[0])]\n",
    "    ts_r = ts_r[:min(mfccs_x.shape[0], mfccs_r.shape[0])]\n",
    "\n",
    "    N += mfccs_x.shape[0]\n",
    "    e = -np.sum(np.sqrt(np.mean((mfccs_x.T - mfccs_r.T)**2, axis=0)))\n",
    "    print(e / mfccs_x.shape[0])\n",
    "    err += e\n",
    "\n",
    "    sys.stderr.write('\\r{:6.2f}% done; err {:4.2f}'.format(100 * (i + 1) / len(seqs), err / N))\n",
    "sys.stderr.write('\\n')\n",
    "\n",
    "print(err / N)"
   ]
  },
  {
   "cell_type": "code",
   "execution_count": null,
   "metadata": {},
   "outputs": [],
   "source": [
    "\n",
    "mfccs_r = np.array(mfccs_r)\n",
    "fig, axs = plt.subplots(3, 1, figsize=(6.25, 1.25), sharex=True, gridspec_kw = {'height_ratios':[3, 3, 2]})\n",
    "axs[0].imshow(norm_img(mfccs_r.T), origin='lower', extent=(np.min(ts_r), np.max(ts_r), 0, 12))\n",
    "axs[0].set_aspect('auto')\n",
    "\n",
    "axs[1].imshow(norm_img(mfccs_x.T), origin='lower', extent=(np.min(ts_r), np.max(ts_r), 0, 12))\n",
    "axs[1].set_aspect('auto')\n",
    "\n",
    "err = -np.sqrt(np.mean((mfccs_x.T - mfccs_r.T)**2, axis=0))\n",
    "print(np.mean(err))\n",
    "axs[2].plot(ts_r, err)\n",
    "axs[2].plot([min(ts_r), max(ts_r)], [np.mean(err), np.mean(err)], 'k--')\n",
    "axs[2].set_xlim(min(ts_r), max(ts_r))\n",
    "\n",
    "fig.savefig('../doc/media/hilbert_resynth_.pdf', bbox_inches='tight')"
   ]
  },
  {
   "cell_type": "code",
   "execution_count": null,
   "metadata": {},
   "outputs": [],
   "source": []
  }
 ],
 "metadata": {
  "kernelspec": {
   "display_name": "Python 3",
   "language": "python",
   "name": "python3"
  },
  "language_info": {
   "codemirror_mode": {
    "name": "ipython",
    "version": 3
   },
   "file_extension": ".py",
   "mimetype": "text/x-python",
   "name": "python",
   "nbconvert_exporter": "python",
   "pygments_lexer": "ipython3",
   "version": "3.6.6"
  }
 },
 "nbformat": 4,
 "nbformat_minor": 2
}
