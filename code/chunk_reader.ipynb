{
 "cells": [
  {
   "cell_type": "markdown",
   "metadata": {},
   "source": [
    "# Notebook for visualising individual training chunks"
   ]
  },
  {
   "cell_type": "code",
   "execution_count": null,
   "metadata": {},
   "outputs": [],
   "source": [
    "%load_ext autoreload\n",
    "%autoreload 2"
   ]
  },
  {
   "cell_type": "code",
   "execution_count": null,
   "metadata": {},
   "outputs": [],
   "source": [
    "import numpy as np\n",
    "import matplotlib.pyplot as plt\n",
    "import gym_speech_resynthesis.envs.audio as audio\n",
    "import h5py\n",
    "\n",
    "%matplotlib inline"
   ]
  },
  {
   "cell_type": "code",
   "execution_count": null,
   "metadata": {},
   "outputs": [],
   "source": [
    "with h5py.File('/home/andreas/Uni/PhD/courses/cs_885_reinforcement_learning/project/code/data/training_data_control_seq/019/chunk_019_bab955304fec8eaa.h5', 'r') as f:\n",
    "    sample_rate = f['fs'][0]\n",
    "    print(sample_rate)\n",
    "\n",
    "    # Plot the PCM data\n",
    "    fig, ax = plt.subplots(figsize=(1.5, 0.5))\n",
    "    pcm = np.array(f['pcm'], dtype=np.float32)\n",
    "    pcm = 0.99 * pcm / np.max(np.abs(pcm))\n",
    "    ax.plot(np.arange(pcm.shape[0]) / sample_rate, pcm)\n",
    "    ax.set_title('PCM')\n",
    "    ax.set_ylim(-1, 1)\n",
    "    ax.set_xlabel('Time (s)')\n",
    "    ax.set_ylabel('Amplitude')\n",
    "    fig.savefig('../doc/media/pcm.pdf')\n",
    "\n",
    "    # Plot the MFCCs\n",
    "    fig, ax = plt.subplots(figsize=(1.5, 0.5))\n",
    "    extent = [np.min(f['ts']), np.max(f['ts']), 0, 12]\n",
    "    ax.imshow(np.array(f['mfcc']).T, origin='lower', extent=extent)\n",
    "    ax.set_aspect('auto')\n",
    "    ax.set_title('MFCCs')\n",
    "    ax.set_xlabel('Time (s)')\n",
    "    fig.savefig('../doc/media/mfcc.pdf')\n",
    "\n",
    "    # Plot the spectrum\n",
    "    fig, ax = plt.subplots(figsize=(16, 3))\n",
    "    extent = [np.min(f['ts']), np.max(f['ts']), 0, 40]\n",
    "    ax.imshow(np.array(f['spectrum']).T, origin='lower', extent=extent)\n",
    "    ax.set_aspect('auto')\n",
    "    ax.set_title('Spectrogram')"
   ]
  },
  {
   "cell_type": "code",
   "execution_count": null,
   "metadata": {},
   "outputs": [],
   "source": [
    "# Play back the PCM data\n",
    "with audio.Player(channels=1, sample_rate=sample_rate) as player:\n",
    "    player.write(pcm.reshape((-1, 1)))"
   ]
  },
  {
   "cell_type": "code",
   "execution_count": null,
   "metadata": {},
   "outputs": [],
   "source": []
  }
 ],
 "metadata": {
  "kernelspec": {
   "display_name": "Python 3",
   "language": "python",
   "name": "python3"
  },
  "language_info": {
   "codemirror_mode": {
    "name": "ipython",
    "version": 3
   },
   "file_extension": ".py",
   "mimetype": "text/x-python",
   "name": "python",
   "nbconvert_exporter": "python",
   "pygments_lexer": "ipython3",
   "version": "3.6.6"
  }
 },
 "nbformat": 4,
 "nbformat_minor": 2
}
