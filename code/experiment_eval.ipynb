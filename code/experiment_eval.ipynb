{
 "cells": [
  {
   "cell_type": "code",
   "execution_count": null,
   "metadata": {},
   "outputs": [],
   "source": [
    "import numpy as np\n",
    "import lzma as xz\n",
    "import sys"
   ]
  },
  {
   "cell_type": "code",
   "execution_count": null,
   "metadata": {},
   "outputs": [],
   "source": [
    "files = ['data/experiments_out/out_dataset_{}_{}_trial_{}.csv.xz'.format(i, m, j)\n",
    "         for i in [1, 2]\n",
    "         for j in [1, 2]\n",
    "         for m in ['acktr', 'ddpg', 'ppo2', 'trpo']]\n",
    "for i, file in enumerate(files):\n",
    "    print(i, '\\t', file)"
   ]
  },
  {
   "cell_type": "code",
   "execution_count": null,
   "metadata": {},
   "outputs": [],
   "source": [
    "data = []\n",
    "N = 100000\n",
    "for file in files:\n",
    "    print('Reading {}...'.format(file))\n",
    "    with xz.open(file, 'rt') as f:\n",
    "        means, vars_, xs = [], [], []\n",
    "        for i, line in enumerate(f):\n",
    "            xs.append(float(line.split(',')[3]))\n",
    "            if i % N == 0:\n",
    "                means.append(np.mean(xs))\n",
    "                vars_.append(np.var(xs))\n",
    "                xs = []\n",
    "                sys.stdout.write('\\r{:6.2f}% done...'.format(100 * i / 1e7))\n",
    "    sys.stdout.write('\\n')\n",
    "    data.append({\n",
    "        'mean': means,\n",
    "        'vars': vars_\n",
    "    })"
   ]
  },
  {
   "cell_type": "code",
   "execution_count": null,
   "metadata": {},
   "outputs": [],
   "source": [
    "import matplotlib.pyplot as plt\n",
    "%matplotlib inline"
   ]
  },
  {
   "cell_type": "code",
   "execution_count": null,
   "metadata": {},
   "outputs": [],
   "source": [
    "methods = ['ACKTR', 'DDPG', 'PPO2', 'TRPO']\n",
    "fig, axs = plt.subplots(1, 4, figsize=(9, 1.75), sharey=True)\n",
    "for j in range(0, 4):\n",
    "    for i in range(j * 4, (j + 1) * 4):\n",
    "        axs[j].plot(np.arange(len(data[i]['mean']) - 1) * N / 1e6, data[i]['mean'][1:], label=methods[i % 4])\n",
    "    axs[j].set_ylim(-4, -2)\n",
    "    axs[j].set_xlabel('Iterations $\\\\times 10^6$')\n",
    "\n",
    "axs[0].set_ylabel('Average reward')\n",
    "axs[0].legend(loc='best', ncol=4)\n",
    "\n",
    "fig.savefig('../doc/media/results_.pdf', bbox_inches='tight')"
   ]
  },
  {
   "cell_type": "code",
   "execution_count": null,
   "metadata": {},
   "outputs": [],
   "source": []
  }
 ],
 "metadata": {
  "kernelspec": {
   "display_name": "Python 3",
   "language": "python",
   "name": "python3"
  },
  "language_info": {
   "codemirror_mode": {
    "name": "ipython",
    "version": 3
   },
   "file_extension": ".py",
   "mimetype": "text/x-python",
   "name": "python",
   "nbconvert_exporter": "python",
   "pygments_lexer": "ipython3",
   "version": "3.6.6"
  }
 },
 "nbformat": 4,
 "nbformat_minor": 2
}
