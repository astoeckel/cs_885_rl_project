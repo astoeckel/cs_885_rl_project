{
 "cells": [
  {
   "cell_type": "markdown",
   "metadata": {},
   "source": [
    "# Tool for analysing the training records in `data/synth_out`"
   ]
  },
  {
   "cell_type": "code",
   "execution_count": null,
   "metadata": {},
   "outputs": [],
   "source": [
    "%load_ext autoreload\n",
    "%autoreload 2\n",
    "%matplotlib inline"
   ]
  },
  {
   "cell_type": "code",
   "execution_count": null,
   "metadata": {},
   "outputs": [],
   "source": [
    "import matplotlib.pyplot as plt\n",
    "import numpy as np\n",
    "import h5py\n",
    "import scipy.interpolate\n",
    "import scipy.io.wavfile\n",
    "import os\n",
    "\n",
    "import gym_speech_resynthesis.envs.audio as audio"
   ]
  },
  {
   "cell_type": "code",
   "execution_count": null,
   "metadata": {},
   "outputs": [],
   "source": [
    "class TrainingRecord:\n",
    "    def __init__(self, **entries):\n",
    "        self.__dict__.update(entries)\n",
    "\n",
    "def norm_mfccs(x):\n",
    "    return x\n",
    "\n",
    "def norm_spectrum(x):\n",
    "    return x"
   ]
  },
  {
   "cell_type": "code",
   "execution_count": null,
   "metadata": {},
   "outputs": [],
   "source": [
    "fn = '/home/andreas/Uni/PhD/courses/cs_885_reinforcement_learning/project/code/data/experiments_out/selection/trpo_chunk_064_b057bbe671cd7e29_15241.h5'\n",
    "_, audio = scipy.io.wavfile.read(fn[:-8] + 'orig.wav')\n",
    "with h5py.File(fn, 'r') as f:\n",
    "    TR = TrainingRecord(\n",
    "        mfcc_synth=np.array(f['mfcc_synth']),\n",
    "        spectrum_synth=np.array(f['spectrum_synth']),\n",
    "        mfcc_orig=np.array(f['mfcc_orig']),\n",
    "        spectrum_orig=np.array(f['spectrum_orig']),\n",
    "        samples=np.array(f['samples']),\n",
    "        action=np.array(f['action']),\n",
    "        reward=np.array(f['reward']),\n",
    "    )"
   ]
  },
  {
   "cell_type": "code",
   "execution_count": null,
   "metadata": {},
   "outputs": [],
   "source": [
    "N = TR.mfcc_synth.shape[0]\n",
    "r_sim_m = np.zeros((N))\n",
    "s_synth, s_orig = np.zeros((2, N, 40))\n",
    "m_synth, m_orig = np.zeros((2, N, 12))\n",
    "for i in range(N):\n",
    "    s_synth[i] = norm_spectrum(TR.spectrum_synth[i])\n",
    "    s_orig[i] = norm_spectrum(TR.spectrum_orig[i])\n",
    "\n",
    "    m_synth[i] = norm_mfccs(TR.mfcc_synth[i])\n",
    "    m_orig[i] = norm_mfccs(TR.mfcc_orig[i])\n",
    "    r_sim_m[i] = -np.sqrt(np.mean((m_synth[i] - m_orig[i])**2))"
   ]
  },
  {
   "cell_type": "code",
   "execution_count": null,
   "metadata": {},
   "outputs": [],
   "source": [
    "def norm_img(x):\n",
    "    return x / np.maximum(1, np.max(np.abs(x), axis=0))\n",
    "\n",
    "fig, axs = plt.subplots(5, 1, figsize=(4.5, 2.25), sharex=True)\n",
    "\n",
    "\n",
    "smpls = np.concatenate(TR.samples)\n",
    "\n",
    "ts = np.linspace(0, 8e-3 * TR.reward.shape[0], TR.reward.shape[0])\n",
    "ts_act = np.linspace(0, 8e-3 * TR.reward.shape[0], TR.action.shape[0])\n",
    "ts_smpls = np.linspace(0, smpls.shape[0] / 16000, smpls.shape[0])\n",
    "\n",
    "audio = audio[:smpls.shape[0]]\n",
    "\n",
    "axs[0].plot(ts_smpls, audio / (1 << 15), linewidth=1)\n",
    "axs[0].plot(ts_smpls, smpls / (1 << 15), linewidth=1)\n",
    "axs[0].set_xlim(0, TR.samples.size)\n",
    "axs[0].set_ylim(-1, 1)\n",
    "\n",
    "axs[1].imshow(norm_img(m_synth.T), origin='lower', vmin=-1, vmax=1, extent=(0, np.max(ts), 0, 12))\n",
    "axs[1].set_aspect('auto')\n",
    "\n",
    "axs[2].imshow(norm_img(m_orig.T), origin='lower', vmin=-1, vmax=1, extent=(0, np.max(ts), 0, 12))\n",
    "axs[2].set_aspect('auto')\n",
    "\n",
    "axs[3].plot(ts, TR.reward, linewidth=2)\n",
    "axs[3].set_xlim(0, np.max(ts))\n",
    "\n",
    "axs[4].plot(ts_act, TR.action);\n",
    "axs[4].set_xlim(0, np.max(ts))\n",
    "axs[4].set_xlabel('Time (s)')\n",
    "\n",
    "fig.savefig('../doc/media/results_trpo_.pdf', bbox_inches='tight')"
   ]
  },
  {
   "cell_type": "code",
   "execution_count": null,
   "metadata": {},
   "outputs": [],
   "source": [
    "with audio.Player(channels=1, sample_rate=16000) as player:\n",
    "    player.write(np.concatenate(TR.samples / (1 << 15)).reshape(-1, 1))"
   ]
  },
  {
   "cell_type": "code",
   "execution_count": null,
   "metadata": {},
   "outputs": [],
   "source": [
    "sims = []\n",
    "def sim(x, y):\n",
    "    ts0 = np.linspace(0, 1, len(x))\n",
    "    ipol = scipy.interpolate.interp1d(ts0, x, bounds_error=False, fill_value=0.0)\n",
    "    maxsim = -np.inf\n",
    "    sims = np.zeros((2, 20))\n",
    "    for i, f in enumerate(np.logspace(-2, 2, 20, base=2)):\n",
    "        ts1 = np.linspace(0, f, len(x))\n",
    "        xp = ipol(ts1)\n",
    "        sims[0, i] = f\n",
    "        sims[1, i] = xp @ y\n",
    "    return sims"
   ]
  },
  {
   "cell_type": "code",
   "execution_count": null,
   "metadata": {},
   "outputs": [],
   "source": [
    "s1 = norm_spectrum(TR.spectrum_orig[220])\n",
    "s2 = norm_spectrum(TR.spectrum_synth[220])\n",
    "\n",
    "fig, ax = plt.subplots()\n",
    "ax.plot(s1)\n",
    "ax.plot(s2)\n",
    "\n",
    "fig, ax = plt.subplots()\n",
    "sims = sim(s1, s2)\n",
    "ax.plot(sims[0], sims[1])"
   ]
  }
 ],
 "metadata": {
  "kernelspec": {
   "display_name": "Python 3",
   "language": "python",
   "name": "python3"
  },
  "language_info": {
   "codemirror_mode": {
    "name": "ipython",
    "version": 3
   },
   "file_extension": ".py",
   "mimetype": "text/x-python",
   "name": "python",
   "nbconvert_exporter": "python",
   "pygments_lexer": "ipython3",
   "version": "3.6.6"
  }
 },
 "nbformat": 4,
 "nbformat_minor": 2
}
